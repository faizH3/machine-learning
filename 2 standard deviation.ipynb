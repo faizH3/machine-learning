{
 "cells": [
  {
   "cell_type": "markdown",
   "metadata": {},
   "source": [
    "# Standard Deviation?"
   ]
  },
  {
   "cell_type": "markdown",
   "metadata": {},
   "source": [
    "> angka yang menjelaskan seberapa banyak nilai angka tersebut tersebar."
   ]
  },
  {
   "cell_type": "markdown",
   "metadata": {},
   "source": [
    "- standar deviasi rendah, sebagian besar angka mendekati nilai rata-rata\n",
    "- standar deviasi tinggi, nilai yang tersebar pada rentang yang lebih luas."
   ]
  },
  {
   "cell_type": "code",
   "execution_count": 1,
   "metadata": {},
   "outputs": [
    {
     "data": {
      "text/plain": [
       "37.84501153334721"
      ]
     },
     "execution_count": 1,
     "metadata": {},
     "output_type": "execute_result"
    }
   ],
   "source": [
    "# Contoh daftar kecepatan mobil\n",
    "import numpy as np\n",
    "\n",
    "speed = [32,111,138,28,59,77,97]\n",
    "\n",
    "np.std(speed)"
   ]
  },
  {
   "cell_type": "markdown",
   "metadata": {},
   "source": [
    "### 1. variance"
   ]
  },
  {
   "cell_type": "markdown",
   "metadata": {},
   "source": [
    "Mencari variance\n",
    "\n",
    "**Cari rata-rata**\n",
    "\n",
    "```\n",
    "(1+2+3) / 3 = 2\n",
    "```\n",
    "\n",
    "**Cari selisih dari rata-rata**\n",
    "\n",
    "untuk setiap nilai cari selisih dari rata-rata\n",
    "\n",
    "```\n",
    "1 - 2 = -1\n",
    "2 - 2 = 0\n",
    "3 - 2 = 1\n",
    "```\n",
    "\n",
    "**Temukan nilai kuadratnya**\n",
    "\n",
    "untuk setiap perbedaan: temukan nilai kuadratnya\n",
    "\n",
    "```\n",
    "(-1)^2 = 1\n",
    "(0)^2 = 0\n",
    "(1)^2 = 1\n",
    "```\n",
    "\n",
    "**variasinya adalah jumlah rata-rata dari selisih kuadrat**\n",
    "```\n",
    "(1+0+1) / 3 = 0.66\n",
    "```\n",
    "\n",
    "**standar deviasi**\n",
    "\n",
    "nilai standar deviasi = akar kuadrat dari variasi\n",
    "\n",
    "  = 0.812"
   ]
  },
  {
   "cell_type": "code",
   "execution_count": 6,
   "metadata": {},
   "outputs": [
    {
     "name": "stdout",
     "output_type": "stream",
     "text": [
      "0.6666666666666666\n"
     ]
    }
   ],
   "source": [
    "# varian value\n",
    "\n",
    "import numpy as np\n",
    "\n",
    "a = [1, 2, 3]\n",
    "\n",
    "x = np.var(a)\n",
    "\n",
    "print(x)\n"
   ]
  },
  {
   "cell_type": "code",
   "execution_count": 5,
   "metadata": {},
   "outputs": [
    {
     "name": "stdout",
     "output_type": "stream",
     "text": [
      "0.816496580927726\n"
     ]
    }
   ],
   "source": [
    "# standard deviation\n",
    "\n",
    "import numpy as np\n",
    "\n",
    "a = [1, 2, 3]\n",
    "\n",
    "x = np.std(a)\n",
    "\n",
    "print(x)"
   ]
  },
  {
   "cell_type": "markdown",
   "metadata": {},
   "source": [
    "### simbol\n",
    "\n",
    "> standar deviasi  = σ\n",
    "\n",
    "> varians = σ^2"
   ]
  },
  {
   "cell_type": "code",
   "execution_count": null,
   "metadata": {},
   "outputs": [],
   "source": []
  }
 ],
 "metadata": {
  "kernelspec": {
   "display_name": "Python 3.10.8 64-bit",
   "language": "python",
   "name": "python3"
  },
  "language_info": {
   "codemirror_mode": {
    "name": "ipython",
    "version": 3
   },
   "file_extension": ".py",
   "mimetype": "text/x-python",
   "name": "python",
   "nbconvert_exporter": "python",
   "pygments_lexer": "ipython3",
   "version": "3.10.8"
  },
  "orig_nbformat": 4,
  "vscode": {
   "interpreter": {
    "hash": "916dbcbb3f70747c44a77c7bcd40155683ae19c65e1c03b4aa3499c5328201f1"
   }
  }
 },
 "nbformat": 4,
 "nbformat_minor": 2
}
